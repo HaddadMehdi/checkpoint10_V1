{
 "cells": [
  {
   "cell_type": "code",
   "execution_count": 3,
   "id": "5cb0d1bb-ec43-4da9-aa25-682af2f14fb8",
   "metadata": {},
   "outputs": [
    {
     "data": {
      "text/plain": [
       "967"
      ]
     },
     "execution_count": 3,
     "metadata": {},
     "output_type": "execute_result"
    }
   ],
   "source": [
    "#*************************** index error\n",
    "\n",
    "#1)\n",
    "\n",
    "mylist=[14, \"hello\", 967]\n",
    "mylist[2]"
   ]
  },
  {
   "cell_type": "code",
   "execution_count": 8,
   "id": "a8eaebdd-ffc9-4d27-bd6e-5953813d5919",
   "metadata": {},
   "outputs": [],
   "source": [
    "#2)\n",
    "\n",
    "import pandas\n",
    "import numpy"
   ]
  },
  {
   "cell_type": "code",
   "execution_count": 13,
   "id": "f5ed0473-8dd0-4b9c-b587-eeb8a865ba61",
   "metadata": {},
   "outputs": [
    {
     "name": "stdout",
     "output_type": "stream",
     "text": [
      "python errors\n"
     ]
    }
   ],
   "source": [
    "#*************************** syntax error\n",
    "\n",
    "#1)\n",
    "\n",
    "print(\"python errors\")\n"
   ]
  },
  {
   "cell_type": "code",
   "execution_count": 16,
   "id": "6f313cd8-8bae-412e-b1c3-58ffbf0ab541",
   "metadata": {},
   "outputs": [
    {
     "name": "stdout",
     "output_type": "stream",
     "text": [
      "hello world\n"
     ]
    }
   ],
   "source": [
    "print(\"hello world\")"
   ]
  },
  {
   "cell_type": "code",
   "execution_count": 18,
   "id": "ce153d91-5942-4529-a109-446686106242",
   "metadata": {},
   "outputs": [
    {
     "data": {
      "text/plain": [
       "'hello'"
      ]
     },
     "execution_count": 18,
     "metadata": {},
     "output_type": "execute_result"
    }
   ],
   "source": [
    "#*************************** key error\n",
    "\n",
    "#1)\n",
    "\n",
    "mydictionnary={True:\"hello\",False:\"bye\", '3':\"python\"}\n",
    "mydictionnary[True]"
   ]
  },
  {
   "cell_type": "code",
   "execution_count": 1,
   "id": "b0c9d008-34c4-4f10-8b7a-0816fb8261eb",
   "metadata": {},
   "outputs": [
    {
     "name": "stdout",
     "output_type": "stream",
     "text": [
      "14\n",
      "15\n",
      "16\n",
      "17\n",
      "18\n",
      "19\n",
      "20\n",
      "21\n",
      "22\n",
      "23\n",
      "24\n",
      "25\n",
      "26\n",
      "27\n",
      "28\n",
      "29\n",
      "30\n",
      "31\n",
      "32\n",
      "33\n",
      "34\n",
      "35\n",
      "36\n",
      "37\n",
      "38\n",
      "39\n",
      "40\n",
      "41\n",
      "42\n",
      "43\n",
      "44\n",
      "45\n",
      "46\n",
      "47\n",
      "48\n",
      "49\n",
      "50\n",
      "51\n",
      "52\n",
      "53\n",
      "54\n",
      "55\n",
      "56\n",
      "57\n",
      "58\n",
      "59\n",
      "60\n",
      "61\n",
      "62\n",
      "63\n",
      "64\n",
      "65\n",
      "66\n",
      "67\n",
      "68\n",
      "69\n",
      "70\n",
      "71\n",
      "72\n",
      "73\n",
      "74\n",
      "75\n",
      "76\n",
      "77\n"
     ]
    }
   ],
   "source": [
    "#*************************** indentation error\n",
    "\n",
    "#1)\n",
    "\n",
    "i=14\n",
    "while i<78:\n",
    "    print(i)\n",
    "    i+=1"
   ]
  },
  {
   "cell_type": "code",
   "execution_count": 5,
   "id": "f1becde4-4aea-4e27-b1e2-0d5213316178",
   "metadata": {},
   "outputs": [
    {
     "data": {
      "text/plain": [
       "3"
      ]
     },
     "execution_count": 5,
     "metadata": {},
     "output_type": "execute_result"
    }
   ],
   "source": [
    "#*************************** StopIteration\n",
    "\n",
    "#1)\n",
    "\n",
    "it=iter([1,2,3])\n",
    "next(it)\n",
    "next(it)\n",
    "next(it)\n"
   ]
  },
  {
   "cell_type": "code",
   "execution_count": 7,
   "id": "f59908d5-b517-410c-b344-53818a8f8453",
   "metadata": {},
   "outputs": [
    {
     "data": {
      "text/plain": [
       "30"
      ]
     },
     "execution_count": 7,
     "metadata": {},
     "output_type": "execute_result"
    }
   ],
   "source": [
    "#*************************** TypeError\n",
    "\n",
    "#1)\n",
    "\n",
    "15+15"
   ]
  },
  {
   "cell_type": "code",
   "execution_count": 9,
   "id": "0dc68d31-7a57-411c-abb3-e0f1f192fe1a",
   "metadata": {},
   "outputs": [
    {
     "data": {
      "text/plain": [
       "'python'"
      ]
     },
     "execution_count": 9,
     "metadata": {},
     "output_type": "execute_result"
    }
   ],
   "source": [
    "#*************************** ValueError\n",
    "\n",
    "str('python')"
   ]
  },
  {
   "cell_type": "code",
   "execution_count": 11,
   "id": "f9f88735-12fd-432f-a40f-f1266975eb3c",
   "metadata": {},
   "outputs": [
    {
     "data": {
      "text/plain": [
       "'python'"
      ]
     },
     "execution_count": 11,
     "metadata": {},
     "output_type": "execute_result"
    }
   ],
   "source": [
    "#*************************** NameError\n",
    "\n",
    "'python'"
   ]
  },
  {
   "cell_type": "code",
   "execution_count": 15,
   "id": "74013d76-f106-4fe4-873a-9467ac809b87",
   "metadata": {},
   "outputs": [],
   "source": [
    "#*************************** ZeroDivisionError\n",
    "\n",
    "x=19/1"
   ]
  },
  {
   "cell_type": "code",
   "execution_count": null,
   "id": "8450cd50-5cf6-43c8-9831-2a5b650b500e",
   "metadata": {},
   "outputs": [],
   "source": []
  }
 ],
 "metadata": {
  "kernelspec": {
   "display_name": "Python 3 (ipykernel)",
   "language": "python",
   "name": "python3"
  },
  "language_info": {
   "codemirror_mode": {
    "name": "ipython",
    "version": 3
   },
   "file_extension": ".py",
   "mimetype": "text/x-python",
   "name": "python",
   "nbconvert_exporter": "python",
   "pygments_lexer": "ipython3",
   "version": "3.9.7"
  }
 },
 "nbformat": 4,
 "nbformat_minor": 5
}
